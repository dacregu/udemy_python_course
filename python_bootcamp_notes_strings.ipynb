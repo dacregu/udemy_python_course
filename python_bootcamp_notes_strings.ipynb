{
 "cells": [
  {
   "cell_type": "code",
   "execution_count": 3,
   "metadata": {},
   "outputs": [],
   "source": [
    "# STRINGS"
   ]
  },
  {
   "cell_type": "code",
   "execution_count": 5,
   "metadata": {},
   "outputs": [
    {
     "name": "stdout",
     "output_type": "stream",
     "text": [
      "HelloJose\n"
     ]
    }
   ],
   "source": [
    "name = 'Jose'\n",
    "print('Hello'+name)"
   ]
  },
  {
   "cell_type": "code",
   "execution_count": 8,
   "metadata": {},
   "outputs": [
    {
     "name": "stdout",
     "output_type": "stream",
     "text": [
      "This is a cool string\n"
     ]
    }
   ],
   "source": [
    "#_METHOD_1: .format() \n",
    "print('This is a {} string'.format('cool'))"
   ]
  },
  {
   "cell_type": "code",
   "execution_count": 3,
   "metadata": {},
   "outputs": [
    {
     "name": "stdout",
     "output_type": "stream",
     "text": [
      "You can insert1 and also insert2\n"
     ]
    }
   ],
   "source": [
    "x = 'insert1'\n",
    "y = 'insert2'\n",
    "print('You can {} and also {}'.format(x,y))"
   ]
  },
  {
   "cell_type": "code",
   "execution_count": 13,
   "metadata": {},
   "outputs": [
    {
     "name": "stdout",
     "output_type": "stream",
     "text": [
      "The fox fox fox\n",
      "The quick brown fox\n"
     ]
    }
   ],
   "source": [
    "print('The {0} {0} {0}'.format('fox','brown','quick'))\n",
    "# 'fox' is at position 0 on format\n",
    "\n",
    "print('The {2} {1} {0}'.format('fox','brown','quick'))"
   ]
  },
  {
   "cell_type": "code",
   "execution_count": 14,
   "metadata": {},
   "outputs": [
    {
     "name": "stdout",
     "output_type": "stream",
     "text": [
      "The quick brown fox\n"
     ]
    }
   ],
   "source": [
    "print('The {q} {b} {f}'.format(f='fox',b='brown',q='quick'))\n",
    "#can give var names inside format()"
   ]
  },
  {
   "cell_type": "code",
   "execution_count": 8,
   "metadata": {},
   "outputs": [
    {
     "name": "stdout",
     "output_type": "stream",
     "text": [
      "The result was 128.7001287001287\n",
      "The result was 128.700128700\n",
      "The result was 128.700129\n",
      "The result was        128.700129\n"
     ]
    }
   ],
   "source": [
    "# float formatting:\n",
    "#'string {value:width.precision f} more string'\n",
    "result = 100000/777\n",
    "print(\"The result was {}\".format(result))\n",
    "print(\"The result was {r:1.9f}\".format(r=result))\n",
    "\n",
    "##f hace q te de los 0s\n",
    "print(\"The result was {r:1.9}\".format(r=result))\n",
    "\n",
    "##la width busca al menos igual de largo en total,sino añade whitespace\n",
    "print(\"The result was {r:17.9}\".format(r=result))"
   ]
  },
  {
   "cell_type": "code",
   "execution_count": 6,
   "metadata": {},
   "outputs": [
    {
     "name": "stdout",
     "output_type": "stream",
     "text": [
      "Hello my name is Jose and my age is 3\n"
     ]
    }
   ],
   "source": [
    "#f strings or formated string literals\n",
    "name='Jose'\n",
    "age = '3'\n",
    "print(f'Hello my name is {name} and my age is {age}')"
   ]
  },
  {
   "cell_type": "code",
   "execution_count": 5,
   "metadata": {},
   "outputs": [
    {
     "name": "stdout",
     "output_type": "stream",
     "text": [
      "Enter first name: A\n",
      "Enter second name: E\n",
      "Your first name is A and your second name is E\n"
     ]
    }
   ],
   "source": [
    "# (!) from python100ex\n",
    "\n",
    "firstname = input(\"Enter first name: \")\n",
    "secondname = input(\"Enter second name: \")\n",
    "print(\"Your first name is %s and your second name is %s\" % (firstname, secondname))\n",
    "\n",
    "# %s can be used followed by % (var1,var2,..)"
   ]
  },
  {
   "cell_type": "code",
   "execution_count": 1,
   "metadata": {},
   "outputs": [
    {
     "name": "stdout",
     "output_type": "stream",
     "text": [
      "Hoo\n",
      "Hoo and Huu\n"
     ]
    }
   ],
   "source": [
    "print('%s' % 'Hoo')\n",
    "print('%s and %s' % ('Hoo','Huu'))"
   ]
  },
  {
   "cell_type": "code",
   "execution_count": null,
   "metadata": {},
   "outputs": [],
   "source": []
  }
 ],
 "metadata": {
  "kernelspec": {
   "display_name": "Python 3",
   "language": "python",
   "name": "python3"
  },
  "language_info": {
   "codemirror_mode": {
    "name": "ipython",
    "version": 3
   },
   "file_extension": ".py",
   "mimetype": "text/x-python",
   "name": "python",
   "nbconvert_exporter": "python",
   "pygments_lexer": "ipython3",
   "version": "3.7.0"
  }
 },
 "nbformat": 4,
 "nbformat_minor": 2
}

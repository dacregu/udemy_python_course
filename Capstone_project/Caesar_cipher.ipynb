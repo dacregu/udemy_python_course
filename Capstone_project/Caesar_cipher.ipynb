{
 "cells": [
  {
   "cell_type": "markdown",
   "metadata": {},
   "source": [
    "# CAESAR CIPHER\n",
    "Implement a Caesar cipher, both encoding and decoding. The key is an integer from 1 to 25. This cipher rotates the letters of the alphabet (A to Z). The encoding replaces each letter with the 1st to 25th next letter in the alphabet (wrapping Z to A). So key 2 encrypts \"HI\" to \"JK\", but key 20 encrypts \"HI\" to \"BC\". This simple \"monoalphabetic substitution cipher\" provides almost no security, because an attacker who has the encoded message can either use frequency analysis to guess the key, or just try all 25 keys"
   ]
  },
  {
   "cell_type": "code",
   "execution_count": 22,
   "metadata": {},
   "outputs": [],
   "source": [
    "def caesar_cipher():\n",
    "        \n",
    "    ## input msg\n",
    "    write_or_read = input('Hello! This is not a super secret ciphering program but,if it was, would you like to write or read a message?\\n -')\n",
    "    \n",
    "    if write_or_read[0].lower() == 'w':\n",
    "        write_or_read = 1\n",
    "    elif write_or_read[0].lower() == 'r':\n",
    "        write_or_read = -1\n",
    "    else:\n",
    "        return 'INTRUDER ALERT !!'\n",
    "    \n",
    "    msg = input('Introduce your message\\n -')\n",
    "    s_msg = list(msg)\n",
    "    \n",
    "    #cipher key and write or read\n",
    "    while True:\n",
    "            try:\n",
    "                cipher = int(input('Introduce a key from 1 to 25\\n -'))\n",
    "                if cipher in range(1,26):\n",
    "                    cipher *=write_or_read\n",
    "                    break\n",
    "            except:\n",
    "                spy = input('Int expected! Are you a spy? yes or no\\n -')\n",
    "                if spy[0].lower() == 'y':\n",
    "                    return 'SPY ALERT !!'\n",
    "                else:\n",
    "                    print('OK! no prob\\n')\n",
    "\n",
    "    ## generating base\n",
    "    from string import ascii_lowercase\n",
    "    alphabet = list(ascii_lowercase)\n",
    "\n",
    "    mix = []\n",
    "    for i in range(0,26):\n",
    "        c = cipher+i+1\n",
    "        if c > 26:\n",
    "            c -= 26\n",
    "        elif c<0:\n",
    "            c += 26\n",
    "        mix.append((alphabet[i],c))\n",
    "    \n",
    "    \n",
    "    xim = []\n",
    "    for i in range(0,26):\n",
    "        xim.append((i+1,alphabet[i]))\n",
    "\n",
    "    cipher_dict = {k:v for k,v in mix}\n",
    "    normal_inv_dict = {v:k for v,k in xim}\n",
    "    \n",
    "\n",
    "    #ciphering\n",
    "\n",
    "    for i in range(len(msg)):\n",
    "        if s_msg[i].lower() in 'abcdefghijklmnopqrstuvwxyz':\n",
    "           s_msg[i] = normal_inv_dict[cipher_dict[s_msg[i].lower()]]\n",
    "        else:\n",
    "            pass\n",
    "    \n",
    "    print(\"Suprise! Your message has been rewrited in a funny way.It's not a secret code or anything.. but just don't show it to everyone\")\n",
    "    \n",
    "    return ''.join(s_msg)\n"
   ]
  },
  {
   "cell_type": "code",
   "execution_count": null,
   "metadata": {},
   "outputs": [],
   "source": [
    "caesar_cipher()"
   ]
  },
  {
   "cell_type": "markdown",
   "metadata": {},
   "source": [
    "\n"
   ]
  },
  {
   "cell_type": "code",
   "execution_count": null,
   "metadata": {},
   "outputs": [],
   "source": [
    "# PERSONAL NOTES\n",
    "# Used lowercase instead of allcaps\n",
    "# Different way to apply the 'module' without a 0:\n",
    "\n",
    "# for i in range(0,26):\n",
    "#     c = cipher+i+1\n",
    "#     if c > 26:\n",
    "#         c -= 26\n",
    "#     elif c<0:\n",
    "#         c += 26\n",
    "#     mix.append((alphabet[i],c))\n",
    "\n"
   ]
  },
  {
   "cell_type": "code",
   "execution_count": null,
   "metadata": {},
   "outputs": [],
   "source": []
  },
  {
   "cell_type": "code",
   "execution_count": null,
   "metadata": {},
   "outputs": [],
   "source": [
    "\n"
   ]
  },
  {
   "cell_type": "code",
   "execution_count": null,
   "metadata": {},
   "outputs": [],
   "source": []
  },
  {
   "cell_type": "code",
   "execution_count": null,
   "metadata": {},
   "outputs": [],
   "source": []
  },
  {
   "cell_type": "code",
   "execution_count": null,
   "metadata": {},
   "outputs": [],
   "source": [
    "\n"
   ]
  },
  {
   "cell_type": "code",
   "execution_count": null,
   "metadata": {},
   "outputs": [],
   "source": []
  },
  {
   "cell_type": "code",
   "execution_count": null,
   "metadata": {},
   "outputs": [],
   "source": []
  }
 ],
 "metadata": {
  "kernelspec": {
   "display_name": "Python 3",
   "language": "python",
   "name": "python3"
  },
  "language_info": {
   "codemirror_mode": {
    "name": "ipython",
    "version": 3
   },
   "file_extension": ".py",
   "mimetype": "text/x-python",
   "name": "python",
   "nbconvert_exporter": "python",
   "pygments_lexer": "ipython3",
   "version": "3.7.0"
  }
 },
 "nbformat": 4,
 "nbformat_minor": 2
}

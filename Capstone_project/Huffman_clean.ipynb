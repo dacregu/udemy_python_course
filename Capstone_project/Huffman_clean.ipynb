{
 "cells": [
  {
   "cell_type": "code",
   "execution_count": 2,
   "metadata": {},
   "outputs": [],
   "source": [
    "def input_files():\n",
    "    content=''\n",
    "    while True:\n",
    "        # todo esto se puede mejorar, optimizar y poner una lista clear_ouput() pero por ahora \n",
    "        # lo dejo sencillo para ir a Huffman asap\n",
    "        try:\n",
    "            location = input('Set File Location (including file name):\\n ')\n",
    "## crear una .txt temp y vaciar ahi el content\n",
    "##no eliminar aun\n",
    "            with open(location,'r') as temp: # ***tiene q haber una manera mejor q content+= -> yield\n",
    "                content += location.split('\\\\').pop()+'\\n'+temp.read()+ '\\n\\n' #pendiente de modificar para la lectura\n",
    "            \n",
    "            print('Added {}\\n'.format(location.split('\\\\').pop()))\n",
    "        \n",
    "        except FileNotFoundError:\n",
    "            print('File not found.\\n')\n",
    "        except UnicodeDecodeError:\n",
    "            print('Must be a .txt file.\\n')\n",
    "        except:\n",
    "            print('ERROR\\n')\n",
    "        finally:\n",
    "            if location == 'stop':\n",
    "                break\n",
    "                \n",
    "    print(content) #temp\n",
    "    return content"
   ]
  },
  {
   "cell_type": "code",
   "execution_count": 3,
   "metadata": {},
   "outputs": [],
   "source": [
    "def huffman_reading(text):\n",
    "    d={}\n",
    "    for x in text:\n",
    "        if x in d:\n",
    "            d[x]+=1\n",
    "        else:\n",
    "            d[x]=1\n",
    "           \n",
    "    return d"
   ]
  },
  {
   "cell_type": "code",
   "execution_count": 4,
   "metadata": {},
   "outputs": [],
   "source": [
    "def dicgen(dict):\n",
    "    for k,v in dict.items():\n",
    "        yield k,v\n",
    "        \n",
    "def huffman_code(dict):\n",
    "    d = {}\n",
    "    for k,v in dicgen(dict):\n",
    "        d[k]=''\n",
    "    l =[]\n",
    "    for k,v in dicgen(dict):\n",
    "        l.append([k,v])\n",
    "        \n",
    "    while len(l) > 1:\n",
    "        ## sort the list\n",
    "        l = sorted(l, key = lambda temp: temp[1])\n",
    "        ## sumar las dos string\n",
    "        x = l[0][0]+l[1][0]\n",
    "        ## sumar sus valores\n",
    "        y = l[0][1]+l[1][1]\n",
    "        ## añadir codigo binario huffman        \n",
    "        for char in x:\n",
    "            if char in l[0][0]:\n",
    "                d[char] = '0'+d[char]\n",
    "            else:\n",
    "                d[char] = '1'+d[char]\n",
    "        ## remake l y repeat until todo una unica string  \n",
    "        l[0][0] = x\n",
    "        l[0][1] = y\n",
    "        del l[1]\n",
    "        \n",
    "    return d"
   ]
  },
  {
   "cell_type": "code",
   "execution_count": 5,
   "metadata": {},
   "outputs": [],
   "source": [
    "def strgen(str):\n",
    "    for symbol in str:\n",
    "        yield symbol\n",
    "    \n",
    "def huffman_comp(content,dict):\n",
    "    compressed_content=''\n",
    "    for symbol in strgen(content):\n",
    "        compressed_content += dict[symbol]\n",
    "    return (compressed_content,dict)\n"
   ]
  },
  {
   "cell_type": "code",
   "execution_count": null,
   "metadata": {},
   "outputs": [],
   "source": []
  },
  {
   "cell_type": "code",
   "execution_count": 6,
   "metadata": {},
   "outputs": [],
   "source": []
  },
  {
   "cell_type": "code",
   "execution_count": 12,
   "metadata": {},
   "outputs": [],
   "source": [
    "def huffman_decomp(text,dict):\n",
    "    inv_dict = {v:k for k,v in dict.items()}\n",
    "    binary = ''\n",
    "    decomp_text = ''\n",
    "    for x in strgen(text):\n",
    "        binary = binary+x\n",
    "        if binary in inv_dict:\n",
    "            decomp_text += inv_dict[binary] \n",
    "            binary = ''\n",
    "    return decomp_text"
   ]
  },
  {
   "cell_type": "code",
   "execution_count": 13,
   "metadata": {},
   "outputs": [
    {
     "name": "stdout",
     "output_type": "stream",
     "text": [
      "1010110001111011010010010111000100111011110011011110110011011000011011100010101100001111011010111111000011011100010101000011100100111011110011011110110011010000111000110111000101010000111001001111011111111011111100001110011100111001001001010101111010100011000101011000010110010010010110110001111111100100101101111100011100100001011010000111111111010010110010001010101110101000001111011101001111111110010001010101110101000\n"
     ]
    },
    {
     "data": {
      "text/plain": [
       "'la raiz cuadrada de la suma de los cuadrados de los catetos es igual a la hipotenusa en un triangulo rectangulo'"
      ]
     },
     "execution_count": 13,
     "metadata": {},
     "output_type": "execute_result"
    }
   ],
   "source": [
    "#TESTING\n",
    "text = 'la raiz cuadrada de la suma de los cuadrados de los catetos es igual a la hipotenusa en un triangulo rectangulo'\n",
    "a1 = huffman_reading(text)\n",
    "a2 = huffman_code(a1)\n",
    "(a3a,a3b) = huffman_comp(text,a2)\n",
    "print(a3a)\n",
    "huffman_decomp(a3a,a3b)\n"
   ]
  },
  {
   "cell_type": "code",
   "execution_count": null,
   "metadata": {},
   "outputs": [],
   "source": [
    "#MEJORAS\n",
    "## poner lista de archivos para comp+clear output\n",
    "## los archivos para comp que se guarden en un txt y asi gasa menos memoria (?)\n",
    "## dar salida a un archivo .txt con la compilacion\n",
    "## nombre del archivo txt que sale !\n",
    "## ver como almaceno la chuleta y luego la leo con el decomp_\n",
    "## opcion de recibir archivo para el decomp+manera de leer chuleta implementada\n",
    "\n",
    "#EXTRA\n",
    "## misma version del programa con clases()"
   ]
  },
  {
   "cell_type": "code",
   "execution_count": null,
   "metadata": {},
   "outputs": [],
   "source": []
  }
 ],
 "metadata": {
  "kernelspec": {
   "display_name": "Python 3",
   "language": "python",
   "name": "python3"
  },
  "language_info": {
   "codemirror_mode": {
    "name": "ipython",
    "version": 3
   },
   "file_extension": ".py",
   "mimetype": "text/x-python",
   "name": "python",
   "nbconvert_exporter": "python",
   "pygments_lexer": "ipython3",
   "version": "3.7.0"
  }
 },
 "nbformat": 4,
 "nbformat_minor": 2
}

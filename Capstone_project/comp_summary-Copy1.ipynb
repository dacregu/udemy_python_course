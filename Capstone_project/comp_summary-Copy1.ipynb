{
 "cells": [
  {
   "cell_type": "code",
   "execution_count": 1,
   "metadata": {},
   "outputs": [
    {
     "name": "stdout",
     "output_type": "stream",
     "text": [
      "Set File Location (including file name) or write 'stop':\n",
      " stop\n",
      "\n",
      " Nothing to compress\n"
     ]
    }
   ],
   "source": [
    "import os#se puede hacer la compresion con int.to_bytes() mejor tsl vez\n",
    "\n",
    "def input_files(file_loc):\n",
    "    with open(file_loc,'r') as file: \n",
    "        # ***tiene q haber una manera mejor q content+= -> yield\n",
    "        filename = os.file.basename(file_loc)\n",
    "        cont = filename +'\\n'+ file.read() + '\\n\\n' \n",
    "    print('Added {}\\n'.format(filename))\n",
    "    return cont\n",
    "\n",
    "def huffman_reading(text):\n",
    "    #evitas 2 comprovaciones si creas un dict con todos los utf-8, \n",
    "    #habria que modificar la chuleta para los = ''\n",
    "    # mejor para txt largos \n",
    "    d={}\n",
    "    for x in text: \n",
    "        if x in d:\n",
    "            d[x]+=1\n",
    "        else:\n",
    "            d[x]=1    \n",
    "    return d\n",
    "\n",
    "def dicgen(dict):\n",
    "    for k,v in dict.items():\n",
    "        yield k,v\n",
    "        \n",
    "def huffman_code(dict):\n",
    "    d = {}\n",
    "    for k,v in dicgen(dict):\n",
    "        d[k]=''\n",
    "    l =[]\n",
    "    for k,v in dicgen(dict):\n",
    "        l.append([k,v])     \n",
    "    while len(l) > 1:\n",
    "        ## sort the list\n",
    "        l = sorted(l, key = lambda temp: temp[1])\n",
    "        ## sumar las dos string\n",
    "        x = l[0][0]+l[1][0]\n",
    "        ## sumar sus valores\n",
    "        y = l[0][1]+l[1][1]\n",
    "        ## añadir codigo binario huffman        \n",
    "        for char in x:\n",
    "            if char in l[0][0]:\n",
    "                d[char] = '0'+d[char]\n",
    "            else:\n",
    "                d[char] = '1'+d[char]\n",
    "        ## remake l y repeat until todo una unica string  \n",
    "        l[0][0] = x\n",
    "        l[0][1] = y\n",
    "        del l[1]\n",
    "    return d\n",
    "\n",
    "def strgen(str):   #tienen sentido strgen y dicgen ??\n",
    "    for symbol in str:\n",
    "        yield symbol\n",
    "    \n",
    "def huffman_comp(content,dict):\n",
    "    compressed_content=''\n",
    "    for symbol in strgen(content):\n",
    "        compressed_content += dict[symbol]\n",
    "    return compressed_content\n",
    "\n",
    "## !! FALLOS\n",
    "def chuleta(cipher):\n",
    "    L = [[k,v,len(v)] for k,v in cipher.items()]\n",
    "    #hay q invertirlo en el reader\n",
    "    Lsort = sorted(L,key = lambda x: x[2])\n",
    "    uni=0;unilist=''\n",
    "    bi=0;bilist=''\n",
    "    tri=0;trilist=''\n",
    "    for k,v,l in Lsort:\n",
    "        if l<8: #cuidado, len(v) != len('1'+v) = len(v)+1\n",
    "            uni+=1\n",
    "            unilist+=k\n",
    "            unilist+=chr(int('1'+v,2))\n",
    "        elif l<=14:\n",
    "            bi+=1\n",
    "            bilist+=k\n",
    "            bilist+=chr(int('1'+v[:7],2))+chr(int('1'+v[7:],2))\n",
    "        else:\n",
    "            tri+=1\n",
    "            trilist+=k\n",
    "            trilist+=chr(int('1'+v[0:7],2))+chr(int('1'+v[7:14],2))+chr(int('1'+v[14:21],2))\n",
    "    chuleta =chr(uni)+chr(bi)+chr(tri)+unilist+bilist+trilist\n",
    "    return chuleta\n",
    "\n",
    "#main\n",
    "text=''\n",
    "while True:\n",
    "    location = input(\"Set File Location (including file name) or write 'stop':\\n \")\n",
    "    if location == 'stop':#edit pending\n",
    "        break\n",
    "    try:\n",
    "        text += input_files(location)\n",
    "    except FileNotFoundError:\n",
    "        print('File not found.\\n')\n",
    "    except UnicodeDecodeError:\n",
    "        print('Must be a .txt file.\\n')\n",
    "    except:\n",
    "        print('ERROR\\n')\n",
    "\n",
    "if text != '':\n",
    "    cipher = huffman_code(huffman_reading(text)) #dict        \n",
    "    ciph_text = huffman_comp(text,cipher)\n",
    "    chuleta = chuleta(cipher)\n",
    "    \n",
    "    cwd = os.getcwd()\n",
    "    name = 'compfiles_'\n",
    "    num = 0\n",
    "    full_name = name+str(num)+'.bin' #diferencia entre .txt and .bin?\n",
    "    while os.path.exists(cwd+'\\\\'+full_name) == True:\n",
    "        num +=1\n",
    "        full_name = name+str(num)+'.bin'\n",
    "        \n",
    "    with open(full_name,'wb') as file:\n",
    "        for i in range(0,len(ciph_text),8):\n",
    "            file.write(bytes(chuleta,'utf-8'))\n",
    "            file.write(bytes(chr(int(ciph_text[i:i+8],2)),'utf-8'))\n",
    "        print(f'\\n File saved as {full_name}')\n",
    "        Lcipher = [(k,v) for k,v in cipher.items()]\n",
    "        print(sorted(Lcipher, key = lambda x: len(x[1])))\n",
    "else:\n",
    "    print('\\n Nothing to compress')"
   ]
  },
  {
   "cell_type": "code",
   "execution_count": 20,
   "metadata": {},
   "outputs": [],
   "source": [
    "#FUNCIONAMIENTO\n",
    "## + que se pueda usar desde CMD !\n",
    "## - saber si vale la pena almacenar en txt mejor que en una str\n",
    "## - los dicgen y strgen valen la pena ?\n",
    "## - aunq sea una string, es bueno el formato de append() ?\n",
    "\n",
    "# INTERFAZ\n",
    "## usar una lista de archivos añadidos y limpiar con clear_output IPython\n",
    "## \n",
    "\n",
    "# OTROS\n",
    "## hacer lo mismo con classes ;D\n",
    "\n",
    "# DECOMP !\n",
    "## mirar como transferir la chuleta ._. de momento no se transfiere por cmd !\n",
    "    ## incluirla de alguna forma en el compressed y darle al decomp la manera de leerlo\n",
    "## !! no tengo manera de saber i separar si hay varios docs !!"
   ]
  },
  {
   "cell_type": "code",
   "execution_count": 6,
   "metadata": {},
   "outputs": [],
   "source": [
    "cipher = {'u': '10110', 'n': '10111', 't': '00', 'i': '010', 'l': '1000', 'e': '1110', 'd': '10100', '.': '10101', 'x': '1001', '\\n': '1111', 'h': '110110', 's': '1100', ' ': '011', 'a': '110111', 'f': '11010'}\n",
    "#copypaste for now\n",
    "def huffman_decomp(decompfile,dict):\n",
    "    inv_dict = {v:k for k,v in dict.items()}\n",
    "    binary = ''\n",
    "    decomp_text = ''\n",
    "    with open(dcompfile,'r') as file:\n",
    "        for x in file.read():\n",
    "            binary = binary+x\n",
    "            if binary in inv_dict:\n",
    "                decomp_text += inv_dict[binary] \n",
    "                binary = ''\n",
    "    return decomp_text\n",
    "\n",
    "#main\n",
    "#huffman_decomp(text,dict)"
   ]
  },
  {
   "cell_type": "code",
   "execution_count": 10,
   "metadata": {},
   "outputs": [
    {
     "name": "stdout",
     "output_type": "stream",
     "text": [
      "untitled.txt\n",
      "this is a text file\n",
      "\n",
      "\n"
     ]
    }
   ],
   "source": [
    "print(huffman_decomp('comp_files_0.txt',cipher))\n",
    "#puedo hacer q elimine el titulo y cree files dinerentes por cada\n",
    "#comp text file"
   ]
  },
  {
   "cell_type": "code",
   "execution_count": 4,
   "metadata": {},
   "outputs": [
    {
     "data": {
      "text/plain": [
       "[3]"
      ]
     },
     "execution_count": 4,
     "metadata": {},
     "output_type": "execute_result"
    }
   ],
   "source": [
    "[1,2,3][2:]"
   ]
  },
  {
   "cell_type": "markdown",
   "metadata": {},
   "source": []
  },
  {
   "cell_type": "code",
   "execution_count": 7,
   "metadata": {},
   "outputs": [
    {
     "name": "stdout",
     "output_type": "stream",
     "text": [
      "C\n"
     ]
    }
   ],
   "source": [
    "C = bytes('C','utf-8')\n",
    "C2 = b'C'.decode('utf-8')\n",
    "print(C2)"
   ]
  },
  {
   "cell_type": "code",
   "execution_count": null,
   "metadata": {},
   "outputs": [],
   "source": []
  },
  {
   "cell_type": "code",
   "execution_count": null,
   "metadata": {},
   "outputs": [],
   "source": []
  },
  {
   "cell_type": "code",
   "execution_count": null,
   "metadata": {},
   "outputs": [],
   "source": [
    "        \n",
    "        "
   ]
  },
  {
   "cell_type": "code",
   "execution_count": 125,
   "metadata": {},
   "outputs": [
    {
     "name": "stdout",
     "output_type": "stream",
     "text": [
      "1360\n",
      "1359\n"
     ]
    }
   ],
   "source": [
    "d = findvalues('compfiles_5.bin');"
   ]
  },
  {
   "cell_type": "code",
   "execution_count": 10,
   "metadata": {},
   "outputs": [
    {
     "data": {
      "text/plain": [
       "'010110'"
      ]
     },
     "execution_count": 10,
     "metadata": {},
     "output_type": "execute_result"
    }
   ],
   "source": [
    "bin(86)[3:]\n",
    "ray = bytearray('HFULDNFHSSMSNDBFHD','utf-8')\n",
    "uni = ray[0]\n",
    "int.from_bytes(ray[0],byteorder='little')"
   ]
  },
  {
   "cell_type": "code",
   "execution_count": 13,
   "metadata": {
    "scrolled": true
   },
   "outputs": [
    {
     "name": "stdout",
     "output_type": "stream",
     "text": [
      "27 66 0\n",
      "no se si peta x aqui\n",
      "no genera bien el dict a partir de X posiciones|n peta en los long7+\n",
      "{'111': ' ', '000': 'a', '0100': 'n', '1100': 'e', '0010': 'i', '0101': 's', '0111': 'o', '10001': 't', '11011': 'r', '10111': 'l', '01101': 'c', '00111': 'd', '110100': '\\n', '100001': 'g', '110101': 'u', '100110': '�', '101001': 'm', '011000': ',', '1000011': 'k', '01110': '�', '0011000': '�', '1000010': 'v', '100010': '�', '0011001': '�', '0010110': '�'}\n",
      "loading..\n",
      "File saved as decomp_file.txt \n"
     ]
    }
   ],
   "source": [
    "#decompi\n",
    "def findvalues(uni,bi,tri):\n",
    "    d={}\n",
    "    print('no se si peta x aqui')\n",
    "    for i in range(0,uni):\n",
    "        symbol = file.read(1).decode('utf-8','replace') \n",
    "            #transform to symbol utf-8, ,'replace' replaces for ?symbol, ,'ignore' ignores errors\n",
    "        bin1   = bin(file.read(1)[0])[3:]        #get binary string\n",
    "        #[:3] 2 to take off bin, 1 to recover code: we added '1'+v in compressor\n",
    "        d[bin1]= symbol                       #build unpack dict#\n",
    "#    for j in range(0,bi):\n",
    " #       symbol = file.read(1).decode('utf-8','replace') \n",
    "  #      bin1   = bin(file.read(1)[0])[3:]\n",
    "   #     bin2   = bin(file.read(1)[0])[2:] # :2 :3 ??\n",
    "    #    d[bin1+bin2]= symbol            \n",
    "#    for k in range(0,tri):\n",
    " #       symbol = file.read(1).decode('utf-8','replace')\n",
    "  #      bin1   = bin(file.read(1)[0])[3:]\n",
    "   #     bin2   = bin(file.read(1)[0])[2:]\n",
    "    #    bin3   = bin(file.read(1)[0])[2:]\n",
    "     #   d[bin1+bin2+bin3]= symbol \n",
    "    return d\n",
    "   \n",
    "\n",
    "def reader(dic,a_string): #update to store in a file instead of _txt srting\n",
    "    binary_str2 =''\n",
    "    decomp_txt = ''\n",
    "    while True:#pending stop\n",
    "        binary_str2 += bin(file.read(1)[0])[2:] # [0] turns bytes into char, then char to 1s 0s str\n",
    "        if binary_str in dic:\n",
    "            decomp_txt += dic[binary_str]\n",
    "            binary_str = ''\n",
    "    return decomp_txt        \n",
    "\n",
    "\n",
    "def huffman_decomp(bin_key,bin_str2,dic):\n",
    "    global bkey\n",
    "    decomp_text = ''\n",
    "    for x in bin_str2:\n",
    "            bin_key = bin_key+x\n",
    "            if bin_key in dic:\n",
    "                decomp_text += dic[bin_key ] \n",
    "                bin_key = ''\n",
    "    return decomp_text \n",
    "\n",
    "def bin_to_str(qty, ofile):\n",
    "    bin_str0 = ''\n",
    "    try:\n",
    "        for i in range(0,qty):\n",
    "            bin_str0 += bin(ofile.read(1)[0])[3:] #from bin symbol to 1s0s string \n",
    "    except IndexError as error:\n",
    "        pass\n",
    "    return bin_str0    \n",
    "\n",
    "# MAIN\n",
    "with open('compfiles_23.bin','rb') as file:\n",
    "    LastByte = file.seek(0,2) #seek position 0 from the bottom\n",
    "    file.seek(0)\n",
    "    b1 = file.read(1)[0]     \n",
    "    b2 = file.read(1)[0]\n",
    "    b3 = file.read(1)[0] # return current byte as int\n",
    "    print(b1,b2,b3)\n",
    "    chuleta = findvalues(b1,b2,b3)   #created dict to decode file\n",
    "    print('no genera bien el dict a partir de X posiciones|n peta en los long7+')\n",
    "    print(chuleta)\n",
    "    print('loading..')\n",
    "    bkey=''\n",
    "    with open('decomp_file.txt','w+') as dcfile:\n",
    "        while True:\n",
    "            bin_str1 = bin_to_str(100,file) #que pasa si quedan menos de 100 posiciones? peta?\n",
    "            decomp_text = huffman_decomp(bkey,bin_str1,chuleta)\n",
    "            #dcfile.write(decomp_text) #quitar #\n",
    "            if LastByte == file.tell():\n",
    "                print(\"File saved as decomp_file.txt \")\n",
    "                break"
   ]
  },
  {
   "cell_type": "code",
   "execution_count": 7,
   "metadata": {},
   "outputs": [],
   "source": [
    "#si que lee bien el primer simbolo de 7, luego peta ^^a = '1';a='2'+a;a"
   ]
  },
  {
   "cell_type": "code",
   "execution_count": 31,
   "metadata": {},
   "outputs": [
    {
     "name": "stdout",
     "output_type": "stream",
     "text": [
      "0\n",
      "<class 'int'>\n"
     ]
    }
   ],
   "source": [
    "with open('compfiles_12.bin', 'rb') as file:\n",
    "    a = file.seek(0,2)\n",
    "    file.seek(0)\n",
    "    if a == True:\n",
    "        pass\n",
    "    print(file.tell())\n",
    "    print(type(a))"
   ]
  },
  {
   "cell_type": "code",
   "execution_count": 13,
   "metadata": {},
   "outputs": [
    {
     "ename": "SyntaxError",
     "evalue": "name 'b' is parameter and global (<ipython-input-13-b6fec2f9da56>, line 4)",
     "output_type": "error",
     "traceback": [
      "\u001b[1;36m  File \u001b[1;32m\"<ipython-input-13-b6fec2f9da56>\"\u001b[1;36m, line \u001b[1;32m4\u001b[0m\n\u001b[1;33m    global b\u001b[0m\n\u001b[1;37m    ^\u001b[0m\n\u001b[1;31mSyntaxError\u001b[0m\u001b[1;31m:\u001b[0m name 'b' is parameter and global\n"
     ]
    }
   ],
   "source": [
    "a = ''\n",
    "def foo(b):\n",
    "    global a\n",
    "    global b\n",
    "    a += '1'\n"
   ]
  },
  {
   "cell_type": "code",
   "execution_count": 4,
   "metadata": {},
   "outputs": [
    {
     "name": "stdout",
     "output_type": "stream",
     "text": [
      "1 2\n"
     ]
    }
   ],
   "source": [
    "a=1;b=2;print(a,b)"
   ]
  },
  {
   "cell_type": "code",
   "execution_count": 51,
   "metadata": {},
   "outputs": [
    {
     "name": "stdout",
     "output_type": "stream",
     "text": [
      "+\n"
     ]
    }
   ],
   "source": [
    "with open('compfiles_18.bin','rb') as file:\n",
    "    b1 = chr(file.read(1)[0]) \n",
    "    print(b1)\n",
    "   "
   ]
  },
  {
   "cell_type": "code",
   "execution_count": 34,
   "metadata": {},
   "outputs": [
    {
     "data": {
      "text/plain": [
       "0"
      ]
     },
     "execution_count": 34,
     "metadata": {},
     "output_type": "execute_result"
    }
   ],
   "source": [
    "a = bytes(1) \n",
    "type(a)\n",
    "a[0]"
   ]
  },
  {
   "cell_type": "code",
   "execution_count": 6,
   "metadata": {},
   "outputs": [
    {
     "name": "stdout",
     "output_type": "stream",
     "text": [
      "0\n",
      "2\n"
     ]
    }
   ],
   "source": [
    "for i in range(0,2*2,2):\n",
    "    print(i)"
   ]
  },
  {
   "cell_type": "code",
   "execution_count": 10,
   "metadata": {},
   "outputs": [
    {
     "name": "stdout",
     "output_type": "stream",
     "text": [
      "[b' '] 15 111\n",
      "[b'a'] 8 000\n",
      "[b'n'] 20 0100\n",
      "[b'e'] 28 1100\n",
      "[b'i'] 18 0010\n",
      "[b's'] 21 0101\n",
      "[b'o'] 23 0111\n",
      "[b't'] 49 10001\n",
      "[b'r'] 59 11011\n",
      "[b'l'] 55 10111\n",
      "[b'c'] 45 01101\n",
      "[b'd'] 39 00111\n",
      "[b'\\n'] 116 110100\n",
      "[b'g'] 97 100001\n",
      "[b'u'] 117 110101\n",
      "[b'p'] 102 100110\n",
      "[b'm'] 105 101001\n",
      "[b','] 88 011000\n",
      "[b'K'] 195 1000011\n",
      "[b'\\x94'] 46 01110\n",
      "[b'\\xc3'] 152 0011000\n",
      "[b'v'] 194 1000010\n",
      "[b'\\xb3'] 98 100010\n",
      "[b'\\xc3'] 153 0011001\n",
      "[b'k'] 195 1000011\n",
      "[b'\\x81'] 102 100110\n",
      "[b'\\xc3'] 150 0010110\n"
     ]
    }
   ],
   "source": [
    "with open('compfiles_23.bin','rb') as file:\n",
    "    b1 = file.read(1)[0]     \n",
    "    b2 = file.read(1)[0]\n",
    "    b3 = file.read(1)[0]\n",
    "    d={}\n",
    "    len1 = b1*2\n",
    "    for i in range(0,len1,2):\n",
    "        symbol = file.read(1)#.decode('utf-8','replace')\n",
    "        bin0 = file.read(1)[0]\n",
    "        bin1 = bin(bin0)[3:]\n",
    "        print([symbol],bin0, bin1)"
   ]
  },
  {
   "cell_type": "code",
   "execution_count": 14,
   "metadata": {},
   "outputs": [
    {
     "data": {
      "text/plain": [
       "255"
      ]
     },
     "execution_count": 14,
     "metadata": {},
     "output_type": "execute_result"
    }
   ],
   "source": [
    "int('11111111',2)"
   ]
  },
  {
   "cell_type": "code",
   "execution_count": 54,
   "metadata": {},
   "outputs": [],
   "source": [
    "def chuleta(cipher):\n",
    "    L = [[k,v,len(v)] for k,v in cipher.items()]\n",
    "    #hay q invertirlo en el reader\n",
    "    Lsort = sorted(L,key = lambda x: x[2])\n",
    "    print(Lsort)\n",
    "    uni=0;unilist=''\n",
    "    bi=0;bilist=''\n",
    "    tri=0;trilist=''\n",
    "    for k,v,l in Lsort:\n",
    "        if l<8: #cuidado, len(v) != len('1'+v) = len(v)+1\n",
    "            uni+=1\n",
    "            unilist+=k\n",
    "            unilist+=chr(int('1'+v,2))\n",
    "            print(uni,k,chr(int('1'+v,2)))\n",
    "            print(unilist)\n",
    "\n",
    "testd = {'a':'00000','b':'00001','c':'00010','d':'1111111'}"
   ]
  },
  {
   "cell_type": "code",
   "execution_count": 55,
   "metadata": {},
   "outputs": [
    {
     "name": "stdout",
     "output_type": "stream",
     "text": [
      "[['a', '00000', 5], ['b', '00001', 5], ['c', '00010', 5], ['d', '1111111', 7]]\n",
      "1 a  \n",
      "a \n",
      "2 b !\n",
      "a b!\n",
      "3 c \"\n",
      "a b!c\"\n",
      "4 d ÿ\n",
      "a b!c\"dÿ\n"
     ]
    }
   ],
   "source": [
    "chuleta(testd)"
   ]
  },
  {
   "cell_type": "code",
   "execution_count": 49,
   "metadata": {},
   "outputs": [
    {
     "data": {
      "text/plain": [
       "'\\x08'"
      ]
     },
     "execution_count": 49,
     "metadata": {},
     "output_type": "execute_result"
    }
   ],
   "source": [
    "chr(int('1000',2))"
   ]
  },
  {
   "cell_type": "code",
   "execution_count": 35,
   "metadata": {},
   "outputs": [
    {
     "data": {
      "text/plain": [
       "1114111"
      ]
     },
     "execution_count": 35,
     "metadata": {},
     "output_type": "execute_result"
    }
   ],
   "source": [
    "0x10ffff"
   ]
  },
  {
   "cell_type": "code",
   "execution_count": null,
   "metadata": {},
   "outputs": [],
   "source": []
  }
 ],
 "metadata": {
  "kernelspec": {
   "display_name": "Python 3",
   "language": "python",
   "name": "python3"
  },
  "language_info": {
   "codemirror_mode": {
    "name": "ipython",
    "version": 3
   },
   "file_extension": ".py",
   "mimetype": "text/x-python",
   "name": "python",
   "nbconvert_exporter": "python",
   "pygments_lexer": "ipython3",
   "version": "3.7.0"
  }
 },
 "nbformat": 4,
 "nbformat_minor": 2
}

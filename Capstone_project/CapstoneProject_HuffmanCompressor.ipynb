{
 "cells": [
  {
   "cell_type": "code",
   "execution_count": 1,
   "metadata": {},
   "outputs": [],
   "source": [
    "# 1. traer y juntar textos, marcar divisiones, incluir dentro 'printador/creador' \n",
    "#     para que se ejecute solo al desenctriptar?? de momento no\n",
    "\n",
    "# 2. Huffman: leer simbolos y ponderarlos\n",
    "\n",
    "# 3. Huffman: crear los binarios+ almacenar chuleta de desencript?\n",
    "#     https://en.wikipedia.org/wiki/Huffman_coding\n",
    "\n",
    "# 4. Crear desencriptador a partir de la chuleta (si no es un percal)\n",
    "\n",
    "# 5. Crear d nuevo los archivos (facil, python)\n",
    "\n",
    "# 6. debug D':\n",
    "\n",
    "# 7. enjoy :D"
   ]
  },
  {
   "cell_type": "code",
   "execution_count": 2,
   "metadata": {},
   "outputs": [],
   "source": [
    "# 1a0. print current dir\n",
    "# 1a. poder añadir file sin extar en e dir\n",
    "\n",
    "\n",
    "# 1b. leer file (varios metodos)\n",
    "# 1c. amacenar content?\n",
    "# 1d. pregunar añadir newfile / repeat\n",
    "\n",
    "#*** con yield:\n",
    "    # crear una lista de las locations y comprobar q son locations correctas \n",
    "    # if os.path.exists(location) == True and location.split('.').pop()=='txt'\n",
    "    # hacer un generator y un for con yield(?) para añadiras a un gran doc de \n",
    "    # texto y encriptarlas. añadir que pertenecen al doc y separadores \n",
    "    # y alguna cosa x si una file no se puede comprimir\n",
    "\n",
    "# se pueden poner clear outputs para q mole mas con la lista de files added"
   ]
  },
  {
   "cell_type": "code",
   "execution_count": 2,
   "metadata": {},
   "outputs": [],
   "source": [
    "def input_files():\n",
    "    content=''\n",
    "    while True:\n",
    "        # todo esto se puede mejorar, optimizar y poner una lista clear_ouput() pero por ahora \n",
    "        # lo dejo sencillo para ir a Huffman asap\n",
    "        try:\n",
    "            location = input('Set File Location (including file name):\\n ')\n",
    "        \n",
    "            with open(location,'r') as temp: # ***tiene q haber una manera mejor q content+= -> yield\n",
    "                content += location.split('\\\\').pop()+'\\n'+temp.read()+ '\\n\\n' #pendiente de modificar para la lectura\n",
    "            \n",
    "            print('Added {}\\n'.format(location.split('\\\\').pop()))\n",
    "        \n",
    "        except FileNotFoundError:\n",
    "            print('File not found.\\n')\n",
    "        except UnicodeDecodeError:\n",
    "            print('Must be a .txt file.\\n')\n",
    "        except:\n",
    "            print('ERROR\\n')\n",
    "        finally:\n",
    "            if location == 'stop':\n",
    "                break\n",
    "                \n",
    "    print(content) #temp\n",
    "    return content\n",
    "        \n",
    "        #poner file name y location de golpe \n",
    "#pwd #check if location is OK, print location\n",
    "#location = location.split('\\\\')\n",
    "#file = location.pop()\n",
    "\n",
    "# tengo que poder abrir una file en una location que no es la actual ¿?\n",
    "\n",
    " \n",
    "# C:\\\\Users\\\\Alex\\\\Documents\\\\Daniel\\\\PYTHON_UDEMY\\\\myfile.txt\n"
   ]
  },
  {
   "cell_type": "code",
   "execution_count": 3,
   "metadata": {},
   "outputs": [
    {
     "name": "stdout",
     "output_type": "stream",
     "text": [
      "Set File Location (including file name):\n",
      " STOP\n",
      "File not found.\n",
      "\n",
      "Set File Location (including file name):\n",
      " stop\n",
      "File not found.\n",
      "\n",
      "\n"
     ]
    },
    {
     "data": {
      "text/plain": [
       "''"
      ]
     },
     "execution_count": 3,
     "metadata": {},
     "output_type": "execute_result"
    }
   ],
   "source": [
    "input_files()"
   ]
  },
  {
   "cell_type": "code",
   "execution_count": 17,
   "metadata": {},
   "outputs": [
    {
     "name": "stdout",
     "output_type": "stream",
     "text": [
      "C:\\Users\\Alex\\Documents\\Daniel\\PYTHON_UDEMY\n"
     ]
    },
    {
     "data": {
      "text/plain": [
       "True"
      ]
     },
     "execution_count": 17,
     "metadata": {},
     "output_type": "execute_result"
    }
   ],
   "source": [
    "# for yield in memo saving\n",
    "# create a list of file_directory, a checker if true \n",
    "# make a generator_list (opc) of file directories\n",
    "# for x in generator yield text\n",
    "\n",
    "import os\n",
    "print(os.getcwd()) # get current working directoty\n",
    "os.path.exists('C:\\\\Users\\\\Alex\\\\Documents\\\\Daniel\\\\PYTHON_UDEMY\\\\myfile.txt')"
   ]
  },
  {
   "cell_type": "code",
   "execution_count": 30,
   "metadata": {},
   "outputs": [],
   "source": [
    "# SE HA HECHO CON UN DICT! NO SE SI ES MAS O MENOS EFICIENTE HACERLO\n",
    "# CON CLASS O CON DICT\n",
    "\n",
    "#class Symbol():\n",
    " #   def __init__(self):\n",
    "  #      self.total = 1\n",
    "        \n",
    "   # def count(self):\n",
    "    #    self.total += 1\n",
    "    \n",
    "    ##def __str__(self):\n",
    "      ##  return self    no va\n",
    "\n",
    "            \n",
    "\n",
    "   # symb_list=''\n",
    "    #for i in texto:\n",
    "     #   if i in symb_list:\n",
    "  #          i=Symbol()\n",
    "   #         i.count()\n",
    "    #        print(i.count())\n",
    "     #   else:\n",
    "      #      symb_list += i\n",
    "\n",
    "    "
   ]
  },
  {
   "cell_type": "code",
   "execution_count": null,
   "metadata": {},
   "outputs": [],
   "source": []
  },
  {
   "cell_type": "code",
   "execution_count": 16,
   "metadata": {},
   "outputs": [],
   "source": [
    "def huffman_reading(text):\n",
    "    d={}\n",
    "    for x in text:\n",
    "        if x in d:\n",
    "            d[x]+=1\n",
    "        else:\n",
    "            d[x]=1\n",
    "           \n",
    "    return d"
   ]
  },
  {
   "cell_type": "code",
   "execution_count": 17,
   "metadata": {},
   "outputs": [],
   "source": [
    "def dicgen(dict):\n",
    "    for k,v in dict.items():\n",
    "        yield k,v\n",
    "        \n",
    "def huffman_code(dict):\n",
    "# recibo dict i saco lista de tuplas para referencia (necesario?)\n",
    "    d = {}\n",
    "    for k,v in dicgen(dict):\n",
    "        d[k]=''\n",
    "    \n",
    "    l =[]\n",
    "    for k,v in dicgen(dict):\n",
    "        l.append([k,v])\n",
    "    \n",
    "    \n",
    "### sorted opc: sorted(list(dict.items()),key=lambda temp: temp[1])\n",
    "    \n",
    "# saco lista de listas y añado 3a columna par hufman\n",
    "### puedo usar un generador o un .append() NOTA!: preguntar q es mejor\n",
    "### ascii tiene 128 character asi q probablemente una lista OK\n",
    "### puedo usar .append() o generador para creal lista d listas\n",
    "### metodo:puedo hacer .append() inverso o redefinir L[0] i del L[1]\n",
    "### que es mejor? mas eficiente ascii=128 char\n",
    "    \n",
    "\n",
    "# aplicar metodo hufman\n",
    "    while len(l) > 1:\n",
    "## sort the list\n",
    "        l = sorted(l, key = lambda temp: temp[1])\n",
    "\n",
    "## sumar las dos string\n",
    "        x = l[0][0]+l[1][0]\n",
    "        y = l[0][1]+l[1][1]\n",
    "        \n",
    "## sumar sus valores\n",
    "        for char in x:\n",
    "            if char in l[0][0]:\n",
    "                d[char] = '0'+d[char]\n",
    "            else:\n",
    "                d[char] = '1'+d[char]\n",
    "        \n",
    "## añadir codigo binario huffman\n",
    "        l[0][0] = x\n",
    "        l[0][1] = y\n",
    "        del l[1]       \n",
    "### repeat until todo una unica string  \n",
    "    return d"
   ]
  },
  {
   "cell_type": "code",
   "execution_count": 36,
   "metadata": {},
   "outputs": [],
   "source": [
    "def strgen(str):\n",
    "    for symbol in str:\n",
    "        yield symbol\n",
    "        \n",
    "def huffman_comp(content,dict):\n",
    "    compressed_content=''\n",
    "    for symbol in strgen(content):\n",
    "        compressed_content += dict[symbol]\n",
    "    return (compressed_content,dict)\n"
   ]
  },
  {
   "cell_type": "code",
   "execution_count": 58,
   "metadata": {},
   "outputs": [],
   "source": [
    "text = 'la raiz cuadrada de la suma de los cuadrados de los catetos es igual a la hipotenusa en un triangulo rectangulo'\n",
    "a1 = huffman_reading(text)\n",
    "a2 = huffman_code(a1)\n",
    "(a3a,a3b) = huffman_comp(text,a2)\n"
   ]
  },
  {
   "cell_type": "code",
   "execution_count": 69,
   "metadata": {},
   "outputs": [
    {
     "name": "stdout",
     "output_type": "stream",
     "text": [
      "{'1010': 'l', '110': 'a', '00': ' ', '11110': 'r', '10010': 'i', '0101110': 'z', '10011': 'c', '1011': 'u', '0110': 'd', '1110': 'e', '0111': 's', '0101111': 'm', '1000': 'o', '11111': 't', '01010': 'g', '0101100': 'h', '0101101': 'p', '0100': 'n'}\n"
     ]
    },
    {
     "data": {
      "text/plain": [
       "'la raiz cuadrada de la suma de los cuadrados de los catetos es igual a la hipotenusa en un triangulo rectangulo'"
      ]
     },
     "execution_count": 69,
     "metadata": {},
     "output_type": "execute_result"
    }
   ],
   "source": [
    "huffman_decomp(a3a,a3b)"
   ]
  },
  {
   "cell_type": "code",
   "execution_count": null,
   "metadata": {},
   "outputs": [],
   "source": [
    "128"
   ]
  },
  {
   "cell_type": "code",
   "execution_count": 68,
   "metadata": {},
   "outputs": [],
   "source": [
    "def huffman_decomp(text,dict):\n",
    "    inv_dict = {v:k for k,v in dict.items()}\n",
    "    binary = ''\n",
    "    decomp_text = ''\n",
    "    for x in strgen(text):\n",
    "        binary = binary+x\n",
    "        if binary in inv_dict:\n",
    "            decomp_text = decomp_text + inv_dict[binary] \n",
    "            binary = ''\n",
    "    return decomp_text\n",
    "    "
   ]
  },
  {
   "cell_type": "code",
   "execution_count": null,
   "metadata": {},
   "outputs": [],
   "source": [
    "##falta crear archivos  y poner la chuleta dentro"
   ]
  },
  {
   "cell_type": "code",
   "execution_count": 75,
   "metadata": {},
   "outputs": [
    {
     "name": "stdout",
     "output_type": "stream",
     "text": [
      "a\n",
      "b\n",
      "c\n"
     ]
    }
   ],
   "source": [
    "d={'a':1,'b':'ne','c':4}\n",
    "for i in d:\n",
    "    print(i)"
   ]
  },
  {
   "cell_type": "code",
   "execution_count": null,
   "metadata": {},
   "outputs": [],
   "source": []
  },
  {
   "cell_type": "code",
   "execution_count": null,
   "metadata": {},
   "outputs": [],
   "source": []
  },
  {
   "cell_type": "code",
   "execution_count": null,
   "metadata": {},
   "outputs": [],
   "source": []
  },
  {
   "cell_type": "code",
   "execution_count": null,
   "metadata": {},
   "outputs": [],
   "source": []
  },
  {
   "cell_type": "code",
   "execution_count": null,
   "metadata": {},
   "outputs": [],
   "source": []
  },
  {
   "cell_type": "code",
   "execution_count": null,
   "metadata": {},
   "outputs": [],
   "source": []
  },
  {
   "cell_type": "code",
   "execution_count": null,
   "metadata": {},
   "outputs": [],
   "source": []
  },
  {
   "cell_type": "code",
   "execution_count": null,
   "metadata": {},
   "outputs": [],
   "source": []
  },
  {
   "cell_type": "code",
   "execution_count": 1,
   "metadata": {},
   "outputs": [],
   "source": [
    "#ULTIMOS RETOQUES"
   ]
  },
  {
   "cell_type": "code",
   "execution_count": null,
   "metadata": {},
   "outputs": [],
   "source": [
    "## PONER UN ARCHIVO DE TXT EN VEZ DE USAR UNA STR\n",
    "\n",
    "def input_files():\n",
    "    content=''\n",
    "    while True:\n",
    "        # todo esto se puede mejorar, optimizar y poner una lista clear_ouput() pero por ahora \n",
    "        # lo dejo sencillo para ir a Huffman asap\n",
    "        try:\n",
    "            location = input('Set File Location (including file name):\\n ')\n",
    "## crear una .txt temp y vaciar ahi el content\n",
    "##no eliminar aun\n",
    "            with open(location,'r') as temp: # ***tiene q haber una manera mejor q content+= -> yield\n",
    "                content += location.split('\\\\').pop()+'\\n'+temp.read()+ '\\n\\n' #pendiente de modificar para la lectura\n",
    "            \n",
    "            print('Added {}\\n'.format(location.split('\\\\').pop()))\n",
    "        \n",
    "        except FileNotFoundError:\n",
    "            print('File not found.\\n')\n",
    "        except UnicodeDecodeError:\n",
    "            print('Must be a .txt file.\\n')\n",
    "        except:\n",
    "            print('ERROR\\n')\n",
    "        finally:\n",
    "            if location == 'stop':\n",
    "                break\n",
    "                \n",
    "    print(content) #temp\n",
    "    return content"
   ]
  }
 ],
 "metadata": {
  "kernelspec": {
   "display_name": "Python 3",
   "language": "python",
   "name": "python3"
  },
  "language_info": {
   "codemirror_mode": {
    "name": "ipython",
    "version": 3
   },
   "file_extension": ".py",
   "mimetype": "text/x-python",
   "name": "python",
   "nbconvert_exporter": "python",
   "pygments_lexer": "ipython3",
   "version": "3.7.0"
  }
 },
 "nbformat": 4,
 "nbformat_minor": 2
}

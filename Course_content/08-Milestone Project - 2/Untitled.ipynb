{
 "cells": [
  {
   "cell_type": "code",
   "execution_count": 18,
   "metadata": {},
   "outputs": [
    {
     "name": "stdout",
     "output_type": "stream",
     "text": [
      "[5, 1, 4, 2, 3]\n"
     ]
    }
   ],
   "source": [
    "import random\n",
    "l=[1,2,3,4,5]; \n",
    "random.shuffle(l)\n",
    "print(l)\n"
   ]
  },
  {
   "cell_type": "code",
   "execution_count": 15,
   "metadata": {},
   "outputs": [
    {
     "name": "stdout",
     "output_type": "stream",
     "text": [
      "<map object at 0x000000000503A588>\n"
     ]
    }
   ],
   "source": [
    "print(map(str,l))"
   ]
  },
  {
   "cell_type": "code",
   "execution_count": 1,
   "metadata": {},
   "outputs": [],
   "source": [
    "# make bet, check bet, etc: define player, define chips/money, etc\n",
    "# shuffle\n",
    "# 2 cards to dealer, hide one\n",
    "# 2 cards to player\n",
    "# player hits, stays or busts\n",
    "# dealer hits until 17 or +\n",
    "# compare cards\n",
    "# choose winer, give money/chips\n",
    "# ask replay"
   ]
  },
  {
   "cell_type": "code",
   "execution_count": null,
   "metadata": {},
   "outputs": [],
   "source": [
    "def hit(deck,hand): \n",
    "    print('hit() is working')\n",
    "    hand.add_card(deck.deal())\n",
    "    if hand.value > 21 and hand.aces >= 1:\n",
    "        hand.adjust_for_ace()\n",
    "        hand.aces -= 1\n",
    "        \n",
    "class Hand:\n",
    "    def __init__(self,values):\n",
    "        self.cards = []  # start with an empty list as we did in the Deck class\n",
    "        self.value = 0   # start with zero value\n",
    "        self.aces = 0    # add an attribute to keep track of aces\n",
    "    def add_card(self,card):\n",
    "        self.cards.append(card)\n",
    "        self.value+=values[card.rank]\n",
    "        if card.rank == 'Ace':\n",
    "            self.aces +=1\n",
    "    def adjust_for_ace(self):\n",
    "        self.value -= 10\n",
    "        self.aces -=1"
   ]
  }
 ],
 "metadata": {
  "kernelspec": {
   "display_name": "Python 3",
   "language": "python",
   "name": "python3"
  },
  "language_info": {
   "codemirror_mode": {
    "name": "ipython",
    "version": 3
   },
   "file_extension": ".py",
   "mimetype": "text/x-python",
   "name": "python",
   "nbconvert_exporter": "python",
   "pygments_lexer": "ipython3",
   "version": "3.7.0"
  }
 },
 "nbformat": 4,
 "nbformat_minor": 2
}
